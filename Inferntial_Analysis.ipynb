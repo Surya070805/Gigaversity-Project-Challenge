{
 "cells": [
  {
   "cell_type": "code",
   "execution_count": null,
   "id": "2c863216",
   "metadata": {},
   "outputs": [],
   "source": [
    "import pandas as pd\n",
    "import matplotlib.pyplot as plt\n",
    "import seaborn as sns\n",
    "import numpy as np\n",
    "\n",
    "# Load your synthetic dataset\n",
    "df = pd.read_csv(\"hr_synthetic_dataset.csv\") \n"
   ]
  },
  {
   "cell_type": "code",
   "execution_count": null,
   "id": "748d52c3",
   "metadata": {},
   "outputs": [
    {
     "name": "stdout",
     "output_type": "stream",
     "text": [
      "Role: Director of R&D, p-value = 0.0000\n",
      "Role: Sales Manager, p-value = 0.0000\n",
      "Role: R&D Manager, p-value = 0.0000\n",
      "Role: HR Manager, p-value = 0.0000\n",
      "Role: Sales Director, p-value = 0.0000\n",
      "Role: HR Director, p-value = 0.0000\n",
      "Role: Research Scientist, p-value = 0.0024\n",
      "Role: Senior Researcher, p-value = 0.0000\n",
      "Role: Sales Executive, p-value = 0.0326\n",
      "Role: HR Specialist, p-value = 0.0297\n"
     ]
    }
   ],
   "source": [
    "from scipy.stats import ttest_ind # Import t-test function \n",
    "\n",
    "job_roles = df['JobRole'].unique() # Get unique job roles\n",
    "for role in job_roles:\n",
    "    males = df[(df['Gender'] == 'Male') & (df['JobRole'] == role)]['MonthlyIncome']\n",
    "    females = df[(df['Gender'] == 'Female') & (df['JobRole'] == role)]['MonthlyIncome']\n",
    "    if len(males) > 5 and len(females) > 5:\n",
    "        stat, p = ttest_ind(males, females, equal_var=False)    # Perform t-test\n",
    "        print(f\"Role: {role}, p-value = {p:.4f}\")\n"
   ]
  },
  {
   "cell_type": "code",
   "execution_count": null,
   "id": "22cb39e8",
   "metadata": {},
   "outputs": [
    {
     "name": "stdout",
     "output_type": "stream",
     "text": [
      "['EmployeeNumber', 'EmployeeID', 'FirstName', 'LastName', 'Gender', 'Age', 'MaritalStatus', 'Education', 'EducationField', 'Department', 'JobRole', 'JobLevel', 'HireDate', 'YearsAtCompany', 'YearsInCurrentRole', 'YearsSinceLastPromotion', 'YearsWithCurrManager', 'Attrition', 'TerminationDate', 'BusinessTravel', 'DailyRate', 'DistanceFromHome', 'EmployeeCount', 'HourlyRate', 'JobInvolvement', 'JobSatisfaction', 'MonthlyIncome', 'MonthlyRate', 'NumCompaniesWorked', 'Over18', 'OverTime', 'PercentSalaryHike', 'PerformanceRating', 'RelationshipSatisfaction', 'StandardHours', 'StockOptionLevel', 'TotalWorkingYears', 'TrainingTimesLastYear', 'WorkLifeBalance']\n"
     ]
    }
   ],
   "source": [
    "print(df.columns.tolist()) # Print all column names\n"
   ]
  },
  {
   "cell_type": "code",
   "execution_count": null,
   "id": "c0197588",
   "metadata": {},
   "outputs": [
    {
     "name": "stdout",
     "output_type": "stream",
     "text": [
      "Defaulting to user installation because normal site-packages is not writeable\n",
      "Collecting imbalanced-learn\n",
      "  Downloading imbalanced_learn-0.13.0-py3-none-any.whl.metadata (8.8 kB)\n",
      "Requirement already satisfied: numpy<3,>=1.24.3 in c:\\users\\23f20\\appdata\\roaming\\python\\python312\\site-packages (from imbalanced-learn) (2.2.1)\n",
      "Requirement already satisfied: scipy<2,>=1.10.1 in c:\\users\\23f20\\appdata\\roaming\\python\\python312\\site-packages (from imbalanced-learn) (1.15.1)\n",
      "Requirement already satisfied: scikit-learn<2,>=1.3.2 in c:\\users\\23f20\\appdata\\roaming\\python\\python312\\site-packages (from imbalanced-learn) (1.6.1)\n",
      "Collecting sklearn-compat<1,>=0.1 (from imbalanced-learn)\n",
      "  Downloading sklearn_compat-0.1.3-py3-none-any.whl.metadata (18 kB)\n",
      "Requirement already satisfied: joblib<2,>=1.1.1 in c:\\users\\23f20\\appdata\\roaming\\python\\python312\\site-packages (from imbalanced-learn) (1.4.2)\n",
      "Requirement already satisfied: threadpoolctl<4,>=2.0.0 in c:\\users\\23f20\\appdata\\roaming\\python\\python312\\site-packages (from imbalanced-learn) (3.5.0)\n",
      "Downloading imbalanced_learn-0.13.0-py3-none-any.whl (238 kB)\n",
      "Downloading sklearn_compat-0.1.3-py3-none-any.whl (18 kB)\n",
      "Installing collected packages: sklearn-compat, imbalanced-learn\n",
      "\n",
      "   -------------------- ------------------- 1/2 [imbalanced-learn]\n",
      "   -------------------- ------------------- 1/2 [imbalanced-learn]\n",
      "   ---------------------------------------- 2/2 [imbalanced-learn]\n",
      "\n",
      "Successfully installed imbalanced-learn-0.13.0 sklearn-compat-0.1.3\n"
     ]
    }
   ],
   "source": [
    "!pip install imbalanced-learn # Install imbalanced-learn for handling imbalanced datasets"
   ]
  },
  {
   "cell_type": "code",
   "execution_count": null,
   "id": "736ef4d3",
   "metadata": {},
   "outputs": [
    {
     "name": "stdout",
     "output_type": "stream",
     "text": [
      "              precision    recall  f1-score   support\n",
      "\n",
      "           0       0.42      0.48      0.44      1272\n",
      "           1       0.57      0.51      0.54      1728\n",
      "\n",
      "    accuracy                           0.50      3000\n",
      "   macro avg       0.49      0.49      0.49      3000\n",
      "weighted avg       0.51      0.50      0.50      3000\n",
      "\n",
      "\n",
      "📊 Gender Coefficient: 0.0689\n"
     ]
    }
   ],
   "source": [
    "import pandas as pd\n",
    "from sklearn.model_selection import train_test_split\n",
    "from sklearn.preprocessing import LabelEncoder\n",
    "from sklearn.linear_model import LogisticRegression\n",
    "from sklearn.metrics import classification_report\n",
    "\n",
    "# Copy DataFrame\n",
    "df_encoded = df.copy() \n",
    "\n",
    "# Define categorical columns to encode\n",
    "categorical_cols = ['Gender', 'EducationField', 'MaritalStatus', 'JobRole', \n",
    "                    'Department', 'OverTime', 'BusinessTravel', 'Education']\n",
    "\n",
    "\n",
    "# Apply LabelEncoder\n",
    "le = LabelEncoder()\n",
    "for col in categorical_cols:\n",
    "    df_encoded[col] = le.fit_transform(df_encoded[col])\n",
    "\n",
    "# Create target variable: recently promoted = 1\n",
    "df_encoded['RecentlyPromoted'] = (df_encoded['YearsSinceLastPromotion'] == 0).astype(int)\n",
    "\n",
    "# Define features\n",
    "features = ['Gender', 'Age', 'Education', 'JobLevel', 'JobSatisfaction', \n",
    "            'MonthlyIncome', 'PerformanceRating', 'OverTime', 'WorkLifeBalance']\n",
    "\n",
    "\n",
    "\n",
    "# Split dataset\n",
    "X = df_encoded[features]\n",
    "y = df_encoded['RecentlyPromoted']\n",
    "X_train, X_test, y_train, y_test = train_test_split(X, y, test_size=0.3, random_state=42)\n",
    "\n",
    "# Train Logistic Regression\n",
    "model = LogisticRegression(max_iter=1000, class_weight='balanced')\n",
    "model.fit(X_train, y_train)\n",
    "\n",
    "\n",
    "# Evaluate model\n",
    "print(classification_report(y_test, model.predict(X_test)))\n",
    "\n",
    "# Show importance of gender in prediction\n",
    "gender_idx = features.index('Gender')\n",
    "print(f\"\\n📊 Gender Coefficient: {model.coef_[0][gender_idx]:.4f}\")\n"
   ]
  },
  {
   "cell_type": "code",
   "execution_count": 20,
   "id": "80121b38",
   "metadata": {},
   "outputs": [
    {
     "name": "stdout",
     "output_type": "stream",
     "text": [
      "Gender Coefficient: 0.06892744985294764\n"
     ]
    }
   ],
   "source": [
    "print(f\"Gender Coefficient: {model.coef_[0][features.index('Gender')]}\")\n"
   ]
  }
 ],
 "metadata": {
  "kernelspec": {
   "display_name": "Python 3",
   "language": "python",
   "name": "python3"
  },
  "language_info": {
   "codemirror_mode": {
    "name": "ipython",
    "version": 3
   },
   "file_extension": ".py",
   "mimetype": "text/x-python",
   "name": "python",
   "nbconvert_exporter": "python",
   "pygments_lexer": "ipython3",
   "version": "3.12.6"
  }
 },
 "nbformat": 4,
 "nbformat_minor": 5
}
